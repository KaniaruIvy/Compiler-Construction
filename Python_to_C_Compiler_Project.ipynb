{
  "nbformat": 4,
  "nbformat_minor": 0,
  "metadata": {
    "colab": {
      "provenance": [],
      "collapsed_sections": [
        "8KYDcQ1VMdhr",
        "3AC8SGbaNKVs",
        "tsxg4bVdNXxC"
      ],
      "authorship_tag": "ABX9TyOsa+c2/08NWug/nFSLxq2C",
      "include_colab_link": true
    },
    "kernelspec": {
      "name": "python3",
      "display_name": "Python 3"
    },
    "language_info": {
      "name": "python"
    }
  },
  "cells": [
    {
      "cell_type": "markdown",
      "metadata": {
        "id": "view-in-github",
        "colab_type": "text"
      },
      "source": [
        "<a href=\"https://colab.research.google.com/github/KaniaruIvy/Compiler-Construction/blob/main/Python_to_C_Compiler_Project.ipynb\" target=\"_parent\"><img src=\"https://colab.research.google.com/assets/colab-badge.svg\" alt=\"Open In Colab\"/></a>"
      ]
    },
    {
      "cell_type": "markdown",
      "source": [
        "118751-Amugo Tatyana\n",
        "\n",
        "115774-Kaniaru Ivy\n",
        "\n",
        "118465- Maccine Quincy\n",
        "\n",
        "120190-Lusiji Lyvia\n",
        "\n",
        "120304-Owira Keith"
      ],
      "metadata": {
        "id": "_YqaLxx69P80"
      }
    },
    {
      "cell_type": "markdown",
      "source": [
        "# Python to C compiler!\n",
        "from  Python\n",
        "i.e \n",
        "```\n",
        "(11+(9-3)  \n",
        "```  \n",
        "to C\n",
        "```\n",
        "add(11, subtract(9, 3))\n",
        "```\n"
      ],
      "metadata": {
        "id": "mPJXsevRL4h4"
      }
    },
    {
      "cell_type": "code",
      "execution_count": 175,
      "metadata": {
        "id": "_VD5R-4NLzwf"
      },
      "outputs": [],
      "source": [
        "#Make Necessary Imports\n",
        "import copy\n",
        "##regular expression library (search pattern)\n",
        "import re"
      ]
    },
    {
      "cell_type": "markdown",
      "source": [
        "# There are the parts of a compiler we shall tackle\n",
        "## 1 PARSING\n",
        "a. Lexical Analysis\n",
        "b. Syntactic Analysis/Parsing (grammar)\n",
        "\n",
        "## 2 TRANSFORMATION\n",
        "a. Tree Traversal \n",
        "b. Transform via Traversal \n",
        "\n",
        "## 3 CODE GENERATION\n"
      ],
      "metadata": {
        "id": "MO1ZyEXdMLQg"
      }
    },
    {
      "cell_type": "markdown",
      "source": [
        "# Tokenization\n",
        "The Tokenizer function receives starting input e.g (11+(9-3)) "
      ],
      "metadata": {
        "id": "8KYDcQ1VMdhr"
      }
    },
    {
      "cell_type": "code",
      "source": [
        "def tokenizer(input_expression):\n",
        "    #counter variable for iterating through input array \n",
        "    current = 0\n",
        "    #array to store computed tokens\n",
        "    tokens = []\n",
        "    ##use regex library to create search patterns for\n",
        "    #letters a,z\n",
        "    alphabet = re.compile(r\"[a-z]\", re.I);\n",
        "    #numbers 1-9\n",
        "    numbers = re.compile(r\"[0-9]\");\n",
        "    #white space\n",
        "    whiteSpace = re.compile(r\"\\s\");\n",
        "    #iterate through input\n",
        "    while current < len(input_expression):\n",
        "        #track position\n",
        "        char = input_expression[current]\n",
        "        #If white space is detected, no token created\n",
        "        if re.match(whiteSpace, char):\n",
        "            current = current+1\n",
        "            continue\n",
        "        #create + add token to array for open parens\n",
        "        if char == '(':\n",
        "            tokens.append({\n",
        "                'type': 'left_paren',\n",
        "                'value': '('\n",
        "            })\n",
        "            #continue iterating\n",
        "            current = current+1\n",
        "            continue\n",
        "        #create + add token to array for closed parens\n",
        "        if char == ')':\n",
        "            tokens.append({\n",
        "                'type': 'right_paren',\n",
        "                'value': ')'\n",
        "            })\n",
        "            #continue iterating\n",
        "            current = current+1\n",
        "            continue\n",
        "        #create + add token to array for numbers\n",
        "        if re.match(numbers, char):\n",
        "            value = ''\n",
        "            #nested iteration if a number is multi-num \n",
        "            while re.match(numbers, char):\n",
        "                value += char\n",
        "                current = current+1\n",
        "                char = input_expression[current];\n",
        "            tokens.append({\n",
        "                'type': 'number',\n",
        "                'value': value\n",
        "            })\n",
        "            continue\n",
        "        #create + add token to array for letters\n",
        "        if char == '+':\n",
        "           value = '+'\n",
        "           while char == '+':\n",
        "              current = current+1\n",
        "              char = input_expression[current]\n",
        "           tokens.append({\n",
        "                'type': 'name',\n",
        "                'value': value\n",
        "            })\n",
        "            #continue iterating\n",
        "           continue\n",
        "        if char == '-':\n",
        "            value='-'\n",
        "            while char == '-':\n",
        "              current = current+1\n",
        "              char = input_expression[current]\n",
        "            tokens.append({\n",
        "                'type': 'name',\n",
        "                'value': value\n",
        "            })\n",
        "            #continue iterating\n",
        "            continue\n",
        "        if char == '*':\n",
        "            value='*'\n",
        "            while char == '*':\n",
        "              current = current+1\n",
        "              char = input_expression[current]\n",
        "            tokens.append({\n",
        "                'type': 'name',\n",
        "                'value': value\n",
        "            })\n",
        "            #continue iterating\n",
        "            continue\n",
        "        if char == '/':\n",
        "            value='/'\n",
        "            while char == '/':\n",
        "              current = current+1\n",
        "              char = input_expression[current]\n",
        "            tokens.append({\n",
        "                'type': 'name',\n",
        "                'value': value\n",
        "            })\n",
        "            #continue iterating\n",
        "            continue\n",
        "        #error condition if we find an unknown value in the input\n",
        "        raise ValueError('Sorry, input character is unknown: ' + char);\n",
        "    return tokens"
      ],
      "metadata": {
        "id": "jEQOIApp5FZk"
      },
      "execution_count": 277,
      "outputs": []
    },
    {
      "cell_type": "markdown",
      "source": [
        "# The parse function creates an Abstract Syntax Tree given the computed tokens from the previous function   "
      ],
      "metadata": {
        "id": "VO715hA1M6-G"
      }
    },
    {
      "cell_type": "code",
      "source": [
        "def parser(tokens):\n",
        "    #keep track of position while iterating\n",
        "    global current\n",
        "    current = 0\n",
        "    #nested function for building an abstract syntax tree\n",
        "    def walk():\n",
        "        #keep track of position while iterating\n",
        "        global current\n",
        "        token = tokens[current]\n",
        "        #if a number is encountered, return a \"NumberLiteral\" node\n",
        "        if token.get('type') == 'number':\n",
        "          if tokens[current+1].get('type') =='name':\n",
        "            current=current+2\n",
        "          else:\n",
        "            current=current+1\n",
        "          return {\n",
        "            'type': 'NumberLiteral',\n",
        "            'value': token.get('value')\n",
        "          }\n",
        "        if token.get('type') == 'name':\n",
        "          current = current + 1\n",
        "          return {\n",
        "              'type': 'CallExpression',\n",
        "              'value': token.get('value')\n",
        "            }\n",
        "         \n",
        "        #if open parentheses encountered, return a \"CallExpression\" node\n",
        "        if token.get('type') == 'left_paren':\n",
        "           #skip past the parenthesis, we're not storing that\n",
        "            current = current + 2\n",
        "            token = tokens[current]\n",
        "            #store the name of operation\n",
        "            node = {\n",
        "                'type': 'CallExpression',\n",
        "                'name': token.get('value'),\n",
        "                'params': []\n",
        "            }\n",
        "            current = current-1\n",
        "            token = tokens[current]\n",
        "            #This node will have child nodes as parameters until the expression ends with a closed parens\n",
        "            while token.get('type') != 'right_paren':\n",
        "                \n",
        "                #recursively add nodes to the params array via the walk function\n",
        "                node['params'].append(walk());\n",
        "                token = tokens[current]\n",
        "            current = current + 1\n",
        "            return  node\n",
        "        #error if unknown type encountered\n",
        "        raise TypeError(token.get('type'))\n",
        "    \n",
        "    \n",
        "    #Let's initialize an empty Abstract Syntax Tree\n",
        "    ast = {\n",
        "        'type': 'Program',\n",
        "        'body': []\n",
        "    }\n",
        "    #then populate it by calling the walk function\n",
        "    #until the global current variable reaches the end of the token array\n",
        "    while current < len(tokens):\n",
        "        ast['body'].append(walk())\n",
        "    #return the completed AST\n",
        "    return ast"
      ],
      "metadata": {
        "id": "2cWh2tUuf5o4"
      },
      "execution_count": 242,
      "outputs": []
    },
    {
      "cell_type": "markdown",
      "source": [
        "#Helper function for the transformer that enables traversing the newly created AST"
      ],
      "metadata": {
        "id": "3AC8SGbaNKVs"
      }
    },
    {
      "cell_type": "code",
      "source": [
        "def traverser(ast, visitor):\n",
        "\n",
        "    #we take the child node (current AST) and parent node (new AST) as\n",
        "    #inputs\n",
        "    def traverseArray(array, parent):\n",
        "       #iterate through every parameter element in our current AST\n",
        "        for child in array:\n",
        "            #and traverse each\n",
        "            traverseNode(child, parent)\n",
        "    \n",
        "    #Take the child node (current AST) and parent node (new AST) as inputs. \n",
        "    def traverseNode(node, parent):\n",
        "        method = visitor.get(node['type'])\n",
        "        if method:\n",
        "            method(node, parent)\n",
        "        if node['type'] == 'Program':\n",
        "            #traverse the body\n",
        "            traverseArray(node['body'], node)\n",
        "        #if its a call expression\n",
        "        elif node['type'] == 'CallExpression':\n",
        "            #traverse the nested paramemeters\n",
        "            traverseArray(node['params'], node)\n",
        "        #if its a number literal\n",
        "        elif node['type'] == 'NumberLiteral':\n",
        "          #break\n",
        "            0\n",
        "        else:\n",
        "          #error for unknown type \n",
        "            raise TypeError(node['type'])\n",
        "    traverseNode(ast, None)"
      ],
      "metadata": {
        "id": "AKjpL_PrNPJQ"
      },
      "execution_count": 243,
      "outputs": []
    },
    {
      "cell_type": "markdown",
      "source": [
        "#Using the newly created traversal functions, we can transform our existing AST for code generation"
      ],
      "metadata": {
        "id": "d4HKGZxVNRfo"
      }
    },
    {
      "cell_type": "code",
      "source": [
        "def transformer(ast):\n",
        "   #Define an empty new AST\n",
        "    newAst = {\n",
        "        'type': 'Program',\n",
        "        'body': []\n",
        "    }\n",
        "    #Copy the old one and fill the new one with it\n",
        "    oldAst = ast\n",
        "    ast = copy.deepcopy(oldAst)\n",
        "    #let's store a reference to the newAST's body in this context property\n",
        "    ast['_context'] = newAst.get('body')\n",
        "\n",
        "    #helper function when a call expression is encountered \n",
        "    def CallExpressionTraverse(node, parent):\n",
        "        expression = {\n",
        "            'type': 'CallExpression',\n",
        "            'callee': {\n",
        "                'type': 'Identifier',\n",
        "                'name': node['name']\n",
        "            },\n",
        "            'arguments': []\n",
        "        }\n",
        "        #set the current context to its child args\n",
        "        node['_context'] = expression['arguments']\n",
        "\n",
        "        #store nested call expression references\n",
        "        if parent['type'] != 'CallExpression':\n",
        "            expression = {\n",
        "                'type': 'ExpressionStatement',\n",
        "                'expression': expression\n",
        "            }\n",
        "        #store the expression in the context property\n",
        "        parent['_context'].append(expression)\n",
        "\n",
        "    #helper function used when a number literal is encountered during traversal. \n",
        "    def NumberLiteralTraverse(node, parent):\n",
        "        parent['_context'].append({\n",
        "            'type': 'NumberLiteral',\n",
        "            'value': node['value']\n",
        "        })\n",
        "    #traverse through the AST using our helper functions until the new AST is fully populated\n",
        "    traverser( ast , {\n",
        "        'NumberLiteral': NumberLiteralTraverse,\n",
        "        'CallExpression': CallExpressionTraverse \n",
        "    })\n",
        "    #return the new AST\n",
        "    return newAst"
      ],
      "metadata": {
        "id": "oVtnGhHJNWwu"
      },
      "execution_count": 244,
      "outputs": []
    },
    {
      "cell_type": "markdown",
      "source": [
        "# Code generation:\n",
        "A recursive stringify function that iterates through the newly created AST, node by node, continually building a string output given the values in each node."
      ],
      "metadata": {
        "id": "tsxg4bVdNXxC"
      }
    },
    {
      "cell_type": "code",
      "source": [
        "def codeGenerator(node):\n",
        "    if node['type'] == 'Program':\n",
        "        return '\\n'.join([code for code in map(codeGenerator, node['body'])])\n",
        "    elif node['type'] == 'Identifier':\n",
        "        return node['name']\n",
        "    elif node['type'] == 'NumberLiteral':\n",
        "        return node['value']\n",
        "    elif node['type'] == 'ExpressionStatement':\n",
        "        expression = codeGenerator(node['expression']) \n",
        "        return '%s;' % expression\n",
        "    elif node['type'] == 'CallExpression':\n",
        "        callee = codeGenerator(node['callee']) \n",
        "        if callee=='+':\n",
        "          callee=\"add\"\n",
        "        if callee=='-':\n",
        "          callee=\"subtract\"\n",
        "        if callee=='*':\n",
        "          callee=\"multiply\"\n",
        "        if callee=='/':\n",
        "          callee=\"divide\"\n",
        "        params = ', '.join([code for code in map(codeGenerator, node['arguments'])])\n",
        "        return \"%s(%s)\" % (callee, params)\n",
        "    else:\n",
        "        raise TypeError(node['type'])"
      ],
      "metadata": {
        "id": "ekza97nwNeJH"
      },
      "execution_count": 271,
      "outputs": []
    },
    {
      "cell_type": "markdown",
      "source": [
        "#Putting it all together"
      ],
      "metadata": {
        "id": "ha8VsxCVNg0d"
      }
    },
    {
      "cell_type": "code",
      "source": [
        "input = \"(11*(9/3))\""
      ],
      "metadata": {
        "id": "mbytcO7_6Njg"
      },
      "execution_count": 278,
      "outputs": []
    },
    {
      "cell_type": "code",
      "source": [
        "#given an input expression, create a set of tokens\n",
        "tokens = tokenizer(input)\n",
        "#create an abstract syntax tree given those tokens\n",
        "ast= parser(tokens)\n",
        "#create a transformed AST given the existing one\n",
        "newAst = transformer(ast)\n",
        "#stringify the transformed AST into an output expression\n",
        "output = codeGenerator(newAst)"
      ],
      "metadata": {
        "id": "BT3ptDZ86J5w"
      },
      "execution_count": 279,
      "outputs": []
    },
    {
      "cell_type": "code",
      "source": [
        "print(\"The tokens of the input are: \\n\")\n",
        "tokens"
      ],
      "metadata": {
        "colab": {
          "base_uri": "https://localhost:8080/"
        },
        "id": "d_CKwe2C6V7w",
        "outputId": "700e084f-f939-4974-93d0-e588d8a5cb8c"
      },
      "execution_count": 280,
      "outputs": [
        {
          "output_type": "stream",
          "name": "stdout",
          "text": [
            "The tokens of the input are: \n",
            "\n"
          ]
        },
        {
          "output_type": "execute_result",
          "data": {
            "text/plain": [
              "[{'type': 'left_paren', 'value': '('},\n",
              " {'type': 'number', 'value': '11'},\n",
              " {'type': 'name', 'value': '*'},\n",
              " {'type': 'left_paren', 'value': '('},\n",
              " {'type': 'number', 'value': '9'},\n",
              " {'type': 'name', 'value': '/'},\n",
              " {'type': 'number', 'value': '3'},\n",
              " {'type': 'right_paren', 'value': ')'},\n",
              " {'type': 'right_paren', 'value': ')'}]"
            ]
          },
          "metadata": {},
          "execution_count": 280
        }
      ]
    },
    {
      "cell_type": "code",
      "source": [
        "print(\"The Abstract Syntax Tree is:\")\n",
        "ast"
      ],
      "metadata": {
        "colab": {
          "base_uri": "https://localhost:8080/"
        },
        "id": "2CQ4IcwF6XAW",
        "outputId": "d8cdf8d5-406b-4203-8094-1ac28f8ad941"
      },
      "execution_count": 281,
      "outputs": [
        {
          "output_type": "stream",
          "name": "stdout",
          "text": [
            "The Abstract Syntax Tree is:\n"
          ]
        },
        {
          "output_type": "execute_result",
          "data": {
            "text/plain": [
              "{'type': 'Program',\n",
              " 'body': [{'type': 'CallExpression',\n",
              "   'name': '*',\n",
              "   'params': [{'type': 'NumberLiteral', 'value': '11'},\n",
              "    {'type': 'CallExpression',\n",
              "     'name': '/',\n",
              "     'params': [{'type': 'NumberLiteral', 'value': '9'},\n",
              "      {'type': 'NumberLiteral', 'value': '3'}]}]}]}"
            ]
          },
          "metadata": {},
          "execution_count": 281
        }
      ]
    },
    {
      "cell_type": "code",
      "source": [
        "print(\"The transformed AST:\")\n",
        "newAst "
      ],
      "metadata": {
        "colab": {
          "base_uri": "https://localhost:8080/"
        },
        "id": "CxkEDQFe6XuK",
        "outputId": "80a57364-f449-42f0-b7d0-6307fb463bd1"
      },
      "execution_count": 282,
      "outputs": [
        {
          "output_type": "stream",
          "name": "stdout",
          "text": [
            "The transformed AST:\n"
          ]
        },
        {
          "output_type": "execute_result",
          "data": {
            "text/plain": [
              "{'type': 'Program',\n",
              " 'body': [{'type': 'ExpressionStatement',\n",
              "   'expression': {'type': 'CallExpression',\n",
              "    'callee': {'type': 'Identifier', 'name': '*'},\n",
              "    'arguments': [{'type': 'NumberLiteral', 'value': '11'},\n",
              "     {'type': 'CallExpression',\n",
              "      'callee': {'type': 'Identifier', 'name': '/'},\n",
              "      'arguments': [{'type': 'NumberLiteral', 'value': '9'},\n",
              "       {'type': 'NumberLiteral', 'value': '3'}]}]}}]}"
            ]
          },
          "metadata": {},
          "execution_count": 282
        }
      ]
    },
    {
      "cell_type": "code",
      "source": [
        "print(\"The original simple arithmetic python code is:\"+ input+ \"\\n\" + \"It's implementation in C is:\"+output)"
      ],
      "metadata": {
        "colab": {
          "base_uri": "https://localhost:8080/"
        },
        "id": "ZkWOsWnw6ZUg",
        "outputId": "23e34672-bf5d-4b67-e525-f351eec6e2af"
      },
      "execution_count": 283,
      "outputs": [
        {
          "output_type": "stream",
          "name": "stdout",
          "text": [
            "The original simple arithmetic python code is:(11*(9/3))\n",
            "It's implementation in C is:multiply(11, divide(9, 3));\n"
          ]
        }
      ]
    }
  ]
}