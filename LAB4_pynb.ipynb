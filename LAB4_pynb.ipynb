{
  "nbformat": 4,
  "nbformat_minor": 0,
  "metadata": {
    "colab": {
      "provenance": [],
      "collapsed_sections": [],
      "include_colab_link": true
    },
    "kernelspec": {
      "name": "python3",
      "display_name": "Python 3"
    },
    "language_info": {
      "name": "python"
    }
  },
  "cells": [
    {
      "cell_type": "markdown",
      "metadata": {
        "id": "view-in-github",
        "colab_type": "text"
      },
      "source": [
        "<a href=\"https://colab.research.google.com/github/KaniaruIvy/Compiler-Construction/blob/main/LAB4_pynb.ipynb\" target=\"_parent\"><img src=\"https://colab.research.google.com/assets/colab-badge.svg\" alt=\"Open In Colab\"/></a>"
      ]
    },
    {
      "cell_type": "markdown",
      "source": [
        "\n",
        "# **GROUP MEMBERS**\n",
        "1.   115774-Kaniaru Ivy\n",
        "2.   118751-Amugo Tatyana\n",
        "1.  118465- Maccine Quincy\n",
        "2.   120190-Lusiji Lyvia\n",
        "1.   120304-Owira Keith\n"
      ],
      "metadata": {
        "id": "TOCbMDdKhBwg"
      }
    },
    {
      "cell_type": "markdown",
      "source": [
        "# **UNDERSTANDING PREDICTIVE PARSING**\n",
        "1.Using an example or illustration, explain what is predictive parsing\n",
        "\n",
        "Predictive parsing is a special form of recursive descent parsing, where no backtracking is required, so this can predict which products to use to replace the input string\n",
        "The goal of predictive parsing is to construct a top-down parser that never backtracks. To do so, we must transform a grammar in two ways:\n",
        "1.   eliminate left recursion\n",
        "2.   perform left factoring\n",
        "\n",
        "Example:\n",
        "\n",
        "For any two productions S->A|B there should be a distinct way of choosing the correct production to expand. Hence the need for a first then follow for the parser to make the corrective choice with a lookahead of only one symbol.\n",
        "\n"
      ],
      "metadata": {
        "id": "HHvlqiAlhb51"
      }
    },
    {
      "cell_type": "markdown",
      "source": [
        "**2(a) What is LL 1 Parsing?**\n",
        "It is a predictive parsing technique used in a top-down parser that uses a one-token lookahead to create an LL(1) parser.\n",
        "An LL parser is called an LL(k) parser if it uses k tokens of lookahead when parsing a sentence. Hence in an LL 1 parser:\n",
        "\n",
        "\n",
        "* The first L indicates that the input is read from left to right.\n",
        "* The second L says that it produces a left-to-right derivation.\n",
        "* And the 1 says that it uses one lookahead token.\n",
        "\n",
        "\n",
        "2(b) ***Why do we get the First () and Follow () i.e. what do these two functions Really Represent?***\n",
        "\n",
        "In an LL (1) parser, the parser works by maintaining a workspace initially seeded to the start symbol followed by the end-of-string marker (usually denoted $). At each step, it does one of the following:\n",
        "\n",
        "\n",
        "*   If the first symbol of the workspace is a terminal, it matches it against the next token of input (or reports an error if it doesn't match.)\n",
        "*   \tIf the first symbol of the workspace is a nonterminal, it predicts what production to replace that nonterminal with\n",
        "\n",
        "Below are brief explanations on how the first () and follow () is achieved:\n",
        "\n",
        "**FIRST ()**\n",
        "\n",
        " A function that gives the set of terminals that begin the strings derived from the production rule. It is the first terminal that appears on the right-hand side of the production.\n",
        "\n",
        "The easiest way to solve backtracking problem is if the compiler knew ahead of time what the \"first character of the string produced when a production rule is applied\" is and compared it to the current character or token in the input string it sees, it could make an informed decision about which production rule to use.\n",
        "\n",
        "Let's suppose that the current nonterminal is A and the next token of input is t. If you know the productions of A, which one would you choose to apply? There's one simple case to consider: if there's a production of the form A → tω, where ω is some arbitrary string, then you should pick that production because the t you're looking at as input will match the t at the front of the production.\n",
        "There are also some complex cases to consider. Suppose you have a production of the form A → Bω, where B is a nonterminal and ω is some string. Under what circumstances would you want to guess this production? Well, if you know that the next terminal symbol is a t, you wouldn't want to guess this production unless you knew that B can expand to a string that starts with the terminal t (there's another case that we'll talk about in a second). This is where FIRST sets come in. In grammars without ε productions, the set FIRST(X) for some nonterminal X is the set of all terminals that can potentially appear at the start of some string derived from X. If you have a production of the form A → Bω and you see the nonterminal t, you'd guess to use that production precisely when t ∈ FIRST(B); that is, B can derive some string that starts with t. If B doesn't derive anything starting with t, then there's no reason to choose it, and if B does derive something starting with t, you'd want to make this choice so that you could eventually match the t against it.\n",
        "Things get a bit trickier when ε productions are introduced. Now, let's suppose that you have a production of the form A → BCω, where B and C are nonterminal and ω is a string. Let's also suppose the next token of input is t. If t ∈ FIRST(B), then we'd choose this production, as mentioned above. However, what happens if t ∉ FIRST(B)? If there are ε productions in the grammar, we might still want to choose this production if B can derive ε and t ∈ FIRST(C).\n",
        "\n",
        "Why is this? If this happens, it means that we might be able to match the t by producing BCω, then producing ε from B, leaving Cω against which to match the t. This is one context where we might have to \"look through\" a nonterminal. Fortunately, this is handled by FIRST sets. If a nonterminal X can produce ε, then ε ∈ FIRST(X). Therefore, we can use FIRST sets to check whether we need to \"look through\" a nonterminal by seeing whether ε ∈ FIRST(X).\n",
        "\n",
        "\n",
        "**Benefits of FIRST ()**\n",
        "\n",
        "*   It can be used to prove the LL (K) characteristic of grammar.\n",
        "*   It can be used to promote in the construction of predictive parsing tables.\n",
        "\n",
        "*   It provides selection information for recursive descent parsers.\n",
        "\n",
        "It can be used to promote in the construction of predictive parsing tables.\n",
        "It provides selection information for recursive descent parsers.\n",
        "\n",
        "**FOLLOW ()**\n",
        "\n",
        "Set of terminal symbols that can be displayed just to the right of the non-terminal symbol in any sentence format. It is the first non-terminal appearing after the given terminal symbol on the right-hand side of production.\n",
        "FOLLOW () can make a non-terminal vanish out if needed to generate the string from the parse tree.\n",
        "\n",
        "For instance, suppose that we're processing the nonterminal A, we see the terminal t, but none of the productions for A can actually consume the t. What do we do then? It turns out there's still a way that we can eat up that t. Remember that LL (1) parsers work by maintaining a workspace with a string in it. It's possible that the t we're looking at is not supposed to be matched against the current nonterminal A at all, and instead we're supposed to have A produce ε and then let some later nonterminal in the workspace match against the t. This is where FOLLOW sets come in.\n",
        "\n",
        "The FOLLOW set of a nonterminal X, denoted FOLLOW(X), is the set of all terminal symbols that can appear immediately after X in some derivation. When choosing which production to choose for A, we add in a final rule - if the terminal symbol t is in the FOLLOW set of A, we choose some production that ultimately will produce ε. That way, the A will \"disappear\" and we can match the t against some character that appears after the A nonterminal.\n",
        "\n",
        "FIRST and FOLLOW sets are used when constructing recursive descent parsers (when the grammar is too complex to do it by inspection). They are also used in the construction of LR (1) parsers\n",
        "\n"
      ],
      "metadata": {
        "id": "5PUpT9b3EN_5"
      }
    },
    {
      "cell_type": "markdown",
      "source": [
        "**3. Are there any unique attributes associated with Top-Down parsing?**\n",
        "\n",
        "Top-Down parsing is a parsing strategy that first looks at the highest level of the parse tree and works down the parse tree by using the rules of grammar. Some of this strategy's important attributes are:\n",
        "\n",
        "*  Top down approach starts evaluating the parse tree from the top and move downwards for parsing other nodes.\n",
        "*  Top down parsing searches for a production rule to be used to construct a string.\n",
        "*  This parsing technique uses Left Most Derivation.\n",
        "*  The main leftmost decision is to select what production rule to use in order to construct the string.\n",
        "*  A top-down parser can be easily structured and formed.\n",
        "*  It is less powerful than bottom-up parsing\n",
        "*  Error detection is easy.\n",
        "*  It does not work well with ambigous grammars.\n",
        "\n",
        "\n",
        "\n"
      ],
      "metadata": {
        "id": "MmmaoZQlgMqV"
      }
    }
  ]
}